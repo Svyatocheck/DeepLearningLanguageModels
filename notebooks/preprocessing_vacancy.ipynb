{
 "cells": [
  {
   "cell_type": "code",
   "execution_count": 40,
   "metadata": {},
   "outputs": [],
   "source": [
    "import pandas as pd\n",
    "import os\n",
    "import warnings\n",
    "warnings.filterwarnings(\"ignore\")"
   ]
  },
  {
   "cell_type": "code",
   "execution_count": 27,
   "metadata": {},
   "outputs": [],
   "source": [
    "os.chdir('/Users/vladimirdimitrov/NLP-case')"
   ]
  },
  {
   "cell_type": "code",
   "execution_count": 28,
   "metadata": {},
   "outputs": [],
   "source": [
    "data_hh = pd.read_csv('data/raw/dst-3.0_16_1_hh_database.csv', sep=';')"
   ]
  },
  {
   "cell_type": "code",
   "execution_count": 29,
   "metadata": {},
   "outputs": [
    {
     "name": "stdout",
     "output_type": "stream",
     "text": [
      "(44744, 12)\n",
      "Пол, возраст ЗП Ищет работу на должность: Город, переезд, командировки Занятость График Опыт работы Последнее/нынешнее место работы Последняя/нынешняя должность Образование и ВУЗ Обновление резюме Авто\n"
     ]
    }
   ],
   "source": [
    "print(data_hh.shape)\n",
    "print(*list(data_hh.columns))"
   ]
  },
  {
   "cell_type": "code",
   "execution_count": 30,
   "metadata": {},
   "outputs": [
    {
     "name": "stdout",
     "output_type": "stream",
     "text": [
      "Пол, возраст                         0\n",
      "ЗП                                   0\n",
      "Ищет работу на должность:            0\n",
      "Город, переезд, командировки         0\n",
      "Занятость                            0\n",
      "График                               0\n",
      "Опыт работы                        168\n",
      "Последнее/нынешнее место работы      1\n",
      "Последняя/нынешняя должность         2\n",
      "Образование и ВУЗ                    0\n",
      "Обновление резюме                    0\n",
      "Авто                                 0\n",
      "dtype: int64\n"
     ]
    }
   ],
   "source": [
    "print(data_hh.isna().sum())\n",
    "data_hh.dropna(inplace=True)\n",
    "data_hh.drop_duplicates(inplace=True)\n",
    "data_hh.reset_index(inplace=True, drop=True)"
   ]
  },
  {
   "cell_type": "code",
   "execution_count": 31,
   "metadata": {},
   "outputs": [],
   "source": [
    "auxiliary_columns = ['Обновление резюме', 'Авто', 'Пол, возраст', 'ЗП']"
   ]
  },
  {
   "cell_type": "code",
   "execution_count": 32,
   "metadata": {},
   "outputs": [
    {
     "name": "stdout",
     "output_type": "stream",
     "text": [
      "Авто\n",
      "Не указано                        32019\n",
      "Имеется собственный автомобиль    12404\n",
      "Name: count, dtype: int64\n",
      "\n",
      "\n",
      "ЗП\n",
      "50000 руб.     4040\n",
      "40000 руб.     3722\n",
      "30000 руб.     3226\n",
      "60000 руб.     3078\n",
      "70000 руб.     2377\n",
      "               ... \n",
      "900000 руб.       1\n",
      "900 руб.          1\n",
      "27000 грн.        1\n",
      "999 руб.          1\n",
      "259999 KZT        1\n",
      "Name: count, Length: 688, dtype: int64\n"
     ]
    }
   ],
   "source": [
    "print(data_hh['Авто'].value_counts())\n",
    "print('\\n')\n",
    "print(data_hh['ЗП'].value_counts())"
   ]
  },
  {
   "cell_type": "code",
   "execution_count": 33,
   "metadata": {},
   "outputs": [],
   "source": [
    "sex = []\n",
    "age = []\n",
    "\n",
    "for sent in data_hh['Пол, возраст']:\n",
    "    words = sent.split(',')\n",
    "    sex.append(words[0].strip())\n",
    "    age.append(words[1].strip().split(' ')[0])\n",
    "\n",
    "data_hh['Age'] = pd.Series(age, dtype=int)\n",
    "data_hh['Sex'] = sex"
   ]
  },
  {
   "cell_type": "code",
   "execution_count": 34,
   "metadata": {},
   "outputs": [],
   "source": [
    "money = []\n",
    "rate = []\n",
    "\n",
    "for sent in data_hh['ЗП']:\n",
    "    words = sent.split(' ')\n",
    "    money.append(words[0].strip())\n",
    "    rate.append(words[1].strip())\n",
    "data_hh['Money'] = pd.Series(money, dtype=int)\n",
    "data_hh['Rate'] = rate"
   ]
  },
  {
   "cell_type": "code",
   "execution_count": 38,
   "metadata": {},
   "outputs": [],
   "source": [
    "data_hh.drop(columns=auxiliary_columns, inplace=True)\n",
    "data_hh.reset_index(drop=True, inplace=True)"
   ]
  },
  {
   "cell_type": "code",
   "execution_count": 39,
   "metadata": {},
   "outputs": [],
   "source": [
    "data_hh.to_csv('data/interim/hh_database_clear.csv')"
   ]
  },
  {
   "cell_type": "code",
   "execution_count": 35,
   "metadata": {},
   "outputs": [],
   "source": [
    "# city = []\n",
    "# removal = []\n",
    "# trips = []\n",
    "\n",
    "# for sent in data_hh['Город, переезд, командировки']:\n",
    "#     words = sent.split(',')\n",
    "#     city.append(words[0].strip())\n",
    "#     removal.append(words[1].strip())\n",
    "#     trips.append([word.strip() for word in words[2:]])\n",
    "\n",
    "# data_hh['City'] = city\n",
    "# data_hh['Removal'] = removal\n",
    "# data_hh['Trips'] = trips"
   ]
  }
 ],
 "metadata": {
  "kernelspec": {
   "display_name": "venv",
   "language": "python",
   "name": "python3"
  },
  "language_info": {
   "codemirror_mode": {
    "name": "ipython",
    "version": 3
   },
   "file_extension": ".py",
   "mimetype": "text/x-python",
   "name": "python",
   "nbconvert_exporter": "python",
   "pygments_lexer": "ipython3",
   "version": "3.11.5"
  }
 },
 "nbformat": 4,
 "nbformat_minor": 2
}
