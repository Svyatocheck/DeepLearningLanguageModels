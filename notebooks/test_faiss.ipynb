{
 "cells": [
  {
   "cell_type": "code",
   "execution_count": 2,
   "metadata": {},
   "outputs": [],
   "source": [
    "import faiss\n",
    "import numpy as np"
   ]
  },
  {
   "cell_type": "code",
   "execution_count": 3,
   "metadata": {},
   "outputs": [],
   "source": [
    "dim = 512  \n",
    "nb = 400_000  # количество векторов в индексе\n",
    "nq = 10 # количество векторов в выборке для поиска\n",
    "np.random.seed(228)\n",
    "vectors = np.random.random((nb, dim)).astype('float32')\n",
    "query = np.random.random((nq, dim)).astype('float32')"
   ]
  },
  {
   "cell_type": "code",
   "execution_count": 4,
   "metadata": {},
   "outputs": [
    {
     "name": "stdout",
     "output_type": "stream",
     "text": [
      "0\n",
      "400000\n"
     ]
    }
   ],
   "source": [
    "index = faiss.IndexFlatL2(dim)\n",
    "print(index.ntotal)\n",
    "index.add(vectors)\n",
    "print(index.ntotal)"
   ]
  },
  {
   "cell_type": "code",
   "execution_count": 12,
   "metadata": {},
   "outputs": [
    {
     "name": "stdout",
     "output_type": "stream",
     "text": [
      "47.3 ms ± 3.48 ms per loop (mean ± std. dev. of 500 runs, 10 loops each)\n"
     ]
    }
   ],
   "source": [
    "%%timeit -r 500\n",
    "top_k = 10\n",
    "D, I = index.search(query, top_k)  # Возвращает результат: Distances, Indices"
   ]
  }
 ],
 "metadata": {
  "kernelspec": {
   "display_name": "venv",
   "language": "python",
   "name": "python3"
  },
  "language_info": {
   "codemirror_mode": {
    "name": "ipython",
    "version": 3
   },
   "file_extension": ".py",
   "mimetype": "text/x-python",
   "name": "python",
   "nbconvert_exporter": "python",
   "pygments_lexer": "ipython3",
   "version": "3.11.5"
  }
 },
 "nbformat": 4,
 "nbformat_minor": 2
}
