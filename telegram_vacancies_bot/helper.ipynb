{
 "cells": [
  {
   "cell_type": "code",
   "execution_count": null,
   "metadata": {},
   "outputs": [],
   "source": [
    "import pandas as pd\n",
    "import faiss"
   ]
  },
  {
   "cell_type": "code",
   "execution_count": null,
   "metadata": {},
   "outputs": [],
   "source": [
    "df = pd.read_csv('database/embed_e5.csv', index_col=0)"
   ]
  },
  {
   "cell_type": "code",
   "execution_count": null,
   "metadata": {},
   "outputs": [],
   "source": [
    "vectors = df.values.astype('float32')\n",
    "\n",
    "# Step 3: Create and Add to FAISS index\n",
    "dimension = vectors.shape[1]  # Number of columns in DataFrame\n",
    "index = faiss.IndexFlatL2(dimension)  # Using a simple flat index, adjust as needed\n",
    "index.add(vectors)  # Adding the vectors to the index\n",
    "dimension"
   ]
  },
  {
   "cell_type": "code",
   "execution_count": null,
   "metadata": {},
   "outputs": [],
   "source": [
    "faiss.write_index(index, \"database/database_e5.index\")"
   ]
  },
  {
   "cell_type": "code",
   "execution_count": 1,
   "metadata": {},
   "outputs": [
    {
     "name": "stderr",
     "output_type": "stream",
     "text": [
      "c:\\Users\\Ivanov_SV\\AppData\\Local\\Programs\\Python\\Python311\\Lib\\site-packages\\tqdm\\auto.py:21: TqdmWarning: IProgress not found. Please update jupyter and ipywidgets. See https://ipywidgets.readthedocs.io/en/stable/user_install.html\n",
      "  from .autonotebook import tqdm as notebook_tqdm\n"
     ]
    },
    {
     "data": {
      "text/html": [
       "<div>\n",
       "<style scoped>\n",
       "    .dataframe tbody tr th:only-of-type {\n",
       "        vertical-align: middle;\n",
       "    }\n",
       "\n",
       "    .dataframe tbody tr th {\n",
       "        vertical-align: top;\n",
       "    }\n",
       "\n",
       "    .dataframe thead th {\n",
       "        text-align: right;\n",
       "    }\n",
       "</style>\n",
       "<table border=\"1\" class=\"dataframe\">\n",
       "  <thead>\n",
       "    <tr style=\"text-align: right;\">\n",
       "      <th></th>\n",
       "      <th>Ищет работу на должность:</th>\n",
       "      <th>Занятость</th>\n",
       "      <th>График</th>\n",
       "      <th>Опыт работы</th>\n",
       "      <th>Последнее/нынешнее место работы</th>\n",
       "      <th>Последняя/нынешняя должность</th>\n",
       "      <th>Образование и ВУЗ</th>\n",
       "      <th>Age</th>\n",
       "      <th>Sex</th>\n",
       "      <th>Money</th>\n",
       "      <th>Rate</th>\n",
       "    </tr>\n",
       "  </thead>\n",
       "  <tbody>\n",
       "    <tr>\n",
       "      <th>37150</th>\n",
       "      <td>Front-End developer</td>\n",
       "      <td>частичная занятость, проектная работа, полная ...</td>\n",
       "      <td>гибкий график, удаленная работа</td>\n",
       "      <td>Опыт работы 5 лет 7 месяцев  Front-End develop...</td>\n",
       "      <td>Индивидуальное предпринимательство / частная п...</td>\n",
       "      <td>Фрилансер</td>\n",
       "      <td>Высшее образование (Бакалавр) 2013 Zaporizhzhy...</td>\n",
       "      <td>27</td>\n",
       "      <td>Мужчина</td>\n",
       "      <td>85000</td>\n",
       "      <td>руб.</td>\n",
       "    </tr>\n",
       "    <tr>\n",
       "      <th>15963</th>\n",
       "      <td>Web-программист неполного рабочего дня</td>\n",
       "      <td>проектная работа, частичная занятость</td>\n",
       "      <td>удаленная работа, гибкий график</td>\n",
       "      <td>Опыт работы 2 года 2 месяца  Web-программист н...</td>\n",
       "      <td>ФГБУ \"НИИ гриппа им. А.А. Смородинцева\" Минздр...</td>\n",
       "      <td>Ведущий программист</td>\n",
       "      <td>Неоконченное высшее образование 2020 Санкт-Пет...</td>\n",
       "      <td>22</td>\n",
       "      <td>Мужчина</td>\n",
       "      <td>60000</td>\n",
       "      <td>руб.</td>\n",
       "    </tr>\n",
       "    <tr>\n",
       "      <th>3064</th>\n",
       "      <td>Программист-разработчик</td>\n",
       "      <td>проектная работа, полная занятость</td>\n",
       "      <td>гибкий график</td>\n",
       "      <td>Опыт работы 6 лет 2 месяца  Программист-разраб...</td>\n",
       "      <td>Индивидуальное предпринимательство / частная п...</td>\n",
       "      <td>Программист-разработчик</td>\n",
       "      <td>Высшее образование (Кандидат наук) 2010 TYT Фи...</td>\n",
       "      <td>31</td>\n",
       "      <td>Мужчина</td>\n",
       "      <td>1600</td>\n",
       "      <td>USD</td>\n",
       "    </tr>\n",
       "    <tr>\n",
       "      <th>22910</th>\n",
       "      <td>Инженер-программист</td>\n",
       "      <td>частичная занятость, проектная работа</td>\n",
       "      <td>гибкий график, удаленная работа</td>\n",
       "      <td>Опыт работы 1 месяц  Инженер-программист 1 000...</td>\n",
       "      <td>Пмк-10</td>\n",
       "      <td>Инженер-программист</td>\n",
       "      <td>Среднее специальное образование 2020 Бресткий ...</td>\n",
       "      <td>22</td>\n",
       "      <td>Мужчина</td>\n",
       "      <td>1000</td>\n",
       "      <td>бел.руб.</td>\n",
       "    </tr>\n",
       "  </tbody>\n",
       "</table>\n",
       "</div>"
      ],
      "text/plain": [
       "                    Ищет работу на должность:  \\\n",
       "37150                     Front-End developer   \n",
       "15963  Web-программист неполного рабочего дня   \n",
       "3064                  Программист-разработчик   \n",
       "22910                     Инженер-программист   \n",
       "\n",
       "                                               Занятость  \\\n",
       "37150  частичная занятость, проектная работа, полная ...   \n",
       "15963              проектная работа, частичная занятость   \n",
       "3064                  проектная работа, полная занятость   \n",
       "22910              частичная занятость, проектная работа   \n",
       "\n",
       "                                График  \\\n",
       "37150  гибкий график, удаленная работа   \n",
       "15963  удаленная работа, гибкий график   \n",
       "3064                     гибкий график   \n",
       "22910  гибкий график, удаленная работа   \n",
       "\n",
       "                                             Опыт работы  \\\n",
       "37150  Опыт работы 5 лет 7 месяцев  Front-End develop...   \n",
       "15963  Опыт работы 2 года 2 месяца  Web-программист н...   \n",
       "3064   Опыт работы 6 лет 2 месяца  Программист-разраб...   \n",
       "22910  Опыт работы 1 месяц  Инженер-программист 1 000...   \n",
       "\n",
       "                         Последнее/нынешнее место работы  \\\n",
       "37150  Индивидуальное предпринимательство / частная п...   \n",
       "15963  ФГБУ \"НИИ гриппа им. А.А. Смородинцева\" Минздр...   \n",
       "3064   Индивидуальное предпринимательство / частная п...   \n",
       "22910                                             Пмк-10   \n",
       "\n",
       "      Последняя/нынешняя должность  \\\n",
       "37150                    Фрилансер   \n",
       "15963          Ведущий программист   \n",
       "3064       Программист-разработчик   \n",
       "22910          Инженер-программист   \n",
       "\n",
       "                                       Образование и ВУЗ  Age      Sex  Money  \\\n",
       "37150  Высшее образование (Бакалавр) 2013 Zaporizhzhy...   27  Мужчина  85000   \n",
       "15963  Неоконченное высшее образование 2020 Санкт-Пет...   22  Мужчина  60000   \n",
       "3064   Высшее образование (Кандидат наук) 2010 TYT Фи...   31  Мужчина   1600   \n",
       "22910  Среднее специальное образование 2020 Бресткий ...   22  Мужчина   1000   \n",
       "\n",
       "           Rate  \n",
       "37150      руб.  \n",
       "15963      руб.  \n",
       "3064        USD  \n",
       "22910  бел.руб.  "
      ]
     },
     "execution_count": 1,
     "metadata": {},
     "output_type": "execute_result"
    }
   ],
   "source": [
    "from database.database import Database\n",
    "\n",
    "db = Database()\n",
    "\n",
    "db.get_job_postings()"
   ]
  }
 ],
 "metadata": {
  "kernelspec": {
   "display_name": "Python 3",
   "language": "python",
   "name": "python3"
  },
  "language_info": {
   "codemirror_mode": {
    "name": "ipython",
    "version": 3
   },
   "file_extension": ".py",
   "mimetype": "text/x-python",
   "name": "python",
   "nbconvert_exporter": "python",
   "pygments_lexer": "ipython3",
   "version": "3.11.4"
  }
 },
 "nbformat": 4,
 "nbformat_minor": 2
}
